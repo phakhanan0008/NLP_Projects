{
  "cells": [
    {
      "cell_type": "markdown",
      "metadata": {
        "id": "0kV_tscbLsRq"
      },
      "source": [
        "# Assignment 1 for FIT5212, Semester 1\n",
        "\n",
        "**Student Name:**  Phakhanan Rataphaibul\n",
        "\n",
        "**Student ID:**    33654735"
      ]
    },
    {
      "cell_type": "markdown",
      "metadata": {
        "id": "OBeHKhlsLsRr"
      },
      "source": [
        "## Part 1:  Text Classification\n",
        "\n",
        "### This part focuses on building a text classifier that predicts the class 'ComputationalLinguistics' using the 'Abstract' and 'Title' fields with statistical and RNN methods."
      ]
    },
    {
      "cell_type": "code",
      "execution_count": null,
      "metadata": {
        "id": "t6G88fOlLsRs",
        "colab": {
          "base_uri": "https://localhost:8080/"
        },
        "outputId": "d40ba972-2aa4-41da-ab1d-4a0d5b76a2dc"
      },
      "outputs": [
        {
          "output_type": "stream",
          "name": "stdout",
          "text": [
            "Requirement already satisfied: scikit-learn in /usr/local/lib/python3.10/dist-packages (1.2.2)\n",
            "Requirement already satisfied: numpy>=1.17.3 in /usr/local/lib/python3.10/dist-packages (from scikit-learn) (1.25.2)\n",
            "Requirement already satisfied: scipy>=1.3.2 in /usr/local/lib/python3.10/dist-packages (from scikit-learn) (1.11.4)\n",
            "Requirement already satisfied: joblib>=1.1.1 in /usr/local/lib/python3.10/dist-packages (from scikit-learn) (1.4.0)\n",
            "Requirement already satisfied: threadpoolctl>=2.0.0 in /usr/local/lib/python3.10/dist-packages (from scikit-learn) (3.4.0)\n"
          ]
        }
      ],
      "source": [
        "# Please uncomment if any of the libraries are not yet installed\n",
        "\n",
        "#!pip3 install torch\n",
        "#pip3 install torchtext\n",
        "#!pip3 install pyldavis\n",
        "#!pip3 install scikit-learn"
      ]
    },
    {
      "cell_type": "code",
      "source": [
        "# Importing necessary libraries and modules\n",
        "\n",
        "%matplotlib inline\n",
        "\n",
        "from nltk.corpus import stopwords\n",
        "from nltk import word_tokenize\n",
        "from nltk.tokenize import wordpunct_tokenize\n",
        "from nltk.tokenize import RegexpTokenizer\n",
        "from nltk.stem import PorterStemmer\n",
        "from nltk.stem import WordNetLemmatizer\n",
        "from sklearn.feature_extraction.text import TfidfVectorizer\n",
        "from sklearn.metrics import precision_score, recall_score, f1_score, accuracy_score, confusion_matrix, matthews_corrcoef\n",
        "from sklearn.linear_model import LogisticRegression\n",
        "from sklearn.naive_bayes import MultinomialNB, GaussianNB,BernoulliNB\n",
        "from sklearn.svm import LinearSVC, SVC\n",
        "from sklearn.ensemble import RandomForestClassifier\n",
        "from sklearn.model_selection import cross_val_score\n",
        "import pandas as pd\n",
        "import numpy as np\n",
        "import nltk\n",
        "\n",
        "import torch\n",
        "from torchtext.data.utils import get_tokenizer\n",
        "from torchtext.vocab import build_vocab_from_iterator\n",
        "from torchtext.data.functional import to_map_style_dataset\n",
        "from torch.utils.data import DataLoader\n",
        "from torch.nn.utils.rnn import pad_sequence\n",
        "from torchtext import data\n",
        "import torch.optim as optim\n",
        "import time\n",
        "from gensim.models import Phrases\n",
        "\n",
        "\n",
        "from sklearn.metrics import precision_recall_curve, average_precision_score, confusion_matrix\n",
        "from sklearn.exceptions import NotFittedError\n",
        "import matplotlib.pyplot as plt"
      ],
      "metadata": {
        "id": "g8rC0YUzN4TB"
      },
      "execution_count": null,
      "outputs": []
    },
    {
      "cell_type": "code",
      "source": [
        "# Download necessary resources for NLTK\n",
        "nltk.download('punkt')\n",
        "nltk.download('wordnet')"
      ],
      "metadata": {
        "id": "i-4twgv_G7ut",
        "colab": {
          "base_uri": "https://localhost:8080/"
        },
        "outputId": "35af3bcb-3761-44d1-b60d-fe3d868ffb39"
      },
      "execution_count": null,
      "outputs": [
        {
          "output_type": "stream",
          "name": "stderr",
          "text": [
            "[nltk_data] Downloading package punkt to /root/nltk_data...\n",
            "[nltk_data]   Package punkt is already up-to-date!\n",
            "[nltk_data] Downloading package wordnet to /root/nltk_data...\n",
            "[nltk_data]   Package wordnet is already up-to-date!\n"
          ]
        },
        {
          "output_type": "execute_result",
          "data": {
            "text/plain": [
              "True"
            ]
          },
          "metadata": {},
          "execution_count": 19
        }
      ]
    },
    {
      "cell_type": "code",
      "source": [
        "# Define file paths for the training, testing, and dev datasets\n",
        "train_path = 'train_set.csv'\n",
        "test_path = 'dev_set.csv'\n",
        "validation_path = 'test_set.csv'"
      ],
      "metadata": {
        "id": "EEmsPq_aN_Kn"
      },
      "execution_count": null,
      "outputs": []
    },
    {
      "cell_type": "code",
      "source": [
        "# Read the CSV files\n",
        "train_df = pd.read_csv(train_path)\n",
        "test_df = pd.read_csv(test_path)\n",
        "validation_df = pd.read_csv(validation_path)"
      ],
      "metadata": {
        "id": "9FVfOMxgOYom"
      },
      "execution_count": null,
      "outputs": []
    },
    {
      "cell_type": "code",
      "source": [
        "# Renaming the column 'ComputationalLinguistics' to 'label' for consistency across dataframes\n",
        "train_df.rename(columns = {'ComputationalLinguistics': 'label'}, inplace = True)\n",
        "test_df.rename(columns = {'ComputationalLinguistics': 'label'}, inplace = True)\n",
        "validation_df.rename(columns = {'ComputationalLinguistics': 'label'}, inplace = True)\n",
        "\n",
        "# Creating dataframes for abstract and label\n",
        "full_abstract_train_df = train_df[['abstract', 'label']] # Full dataset\n",
        "part_abstract_train_df = train_df[['abstract', 'label']].iloc[:1000] # First 1000 rows (partial)\n",
        "test_abstract_df = test_df[['abstract', 'label']]\n",
        "validation_abstract_df = validation_df[['abstract', 'label']]\n",
        "\n",
        "# Creating dataframes for title and label\n",
        "full_title_train_df = train_df[['title', 'label']] # Full dataset\n",
        "part_title_train_df = train_df[['title', 'label']].iloc[:1000] # First 1000 rows (partial)\n",
        "test_title_df = test_df[['title', 'label']]\n",
        "validation_title_df = validation_df[['title', 'label']]"
      ],
      "metadata": {
        "id": "rmAyjYtkSiN1"
      },
      "execution_count": null,
      "outputs": []
    },
    {
      "cell_type": "code",
      "source": [
        "# Define a custom tokenizer class for tokenization and stemming\n",
        "class StemTokenizer:\n",
        "    def __init__(self):\n",
        "        self.stemmer = PorterStemmer()\n",
        "    def __call__(self, doc):\n",
        "        return [self.stemmer.stem(t) for t in word_tokenize(doc)]"
      ],
      "metadata": {
        "id": "hCanhZI-SeI_"
      },
      "execution_count": null,
      "outputs": []
    },
    {
      "cell_type": "code",
      "source": [
        "# Convert dataframes to list for model training\n",
        "\n",
        "full_abstract_trainDocs = full_abstract_train_df.abstract.tolist() + test_abstract_df.abstract.tolist()\n",
        "full_abstract_trainLabels = full_abstract_train_df.label.tolist() + test_abstract_df.label.tolist()\n",
        "\n",
        "part_abstract_trainDocs = part_abstract_train_df.abstract.tolist() + test_abstract_df.abstract.tolist()\n",
        "part_abstract_trainLabels = part_abstract_train_df.label.tolist() + test_abstract_df.label.tolist()\n",
        "\n",
        "full_title_trainDocs = full_title_train_df.title.tolist() + test_title_df.title.tolist()\n",
        "full_title_trainLabels = full_title_train_df.label.tolist() + test_title_df.label.tolist()\n",
        "\n",
        "part_title_trainDocs = part_title_train_df.title.tolist() + test_title_df.title.tolist()\n",
        "part_title_trainLabels = part_title_train_df.label.tolist() + test_title_df.label.tolist()"
      ],
      "metadata": {
        "id": "9D5Uw3rjanaP"
      },
      "execution_count": null,
      "outputs": []
    },
    {
      "cell_type": "code",
      "source": [
        "# Initializing vectorizers for full dataset using abstract column\n",
        "abstract_vectorizer_full = TfidfVectorizer(analyzer='word',\n",
        "                                           input='content',\n",
        "                                           lowercase=True,\n",
        "                                           token_pattern='(?u)\\\\b\\\\w\\\\w+\\\\b',\n",
        "                                           min_df=3, ngram_range=(1,2),\n",
        "                                           tokenizer=StemTokenizer())\n",
        "\n",
        "# Initializing vectorizers for the first 1000 rows of the dataset using abstract column\n",
        "abstract_vectorizer_part = TfidfVectorizer(analyzer='word',\n",
        "                                           input='content',\n",
        "                                           lowercase=True,\n",
        "                                           token_pattern='(?u)\\\\b\\\\w\\\\w+\\\\b',\n",
        "                                           min_df=3, ngram_range=(1,2),\n",
        "                                           tokenizer=StemTokenizer())\n",
        "\n",
        "# Initializing vectorizers for full dataset using title column\n",
        "title_vectorizer_full = TfidfVectorizer(analyzer='word',\n",
        "                                        input='content',\n",
        "                                        lowercase=True,\n",
        "                                        token_pattern='(?u)\\\\b\\\\w\\\\w+\\\\b',\n",
        "                                        min_df=3, ngram_range=(1,2),\n",
        "                                        tokenizer=StemTokenizer())\n",
        "\n",
        "# Initializing vectorizers for the first 1000 rows of the dataset using title column\n",
        "title_vectorizer_part = TfidfVectorizer(analyzer='word',\n",
        "                                        input='content',\n",
        "                                        lowercase=True, token_pattern='(?u)\\\\b\\\\w\\\\w+\\\\b',\n",
        "                                        min_df=3,\n",
        "                                        ngram_range=(1,2),\n",
        "                                        tokenizer=StemTokenizer())"
      ],
      "metadata": {
        "id": "9e7qtIp3TBe-"
      },
      "execution_count": null,
      "outputs": []
    },
    {
      "cell_type": "code",
      "source": [
        "# Transforming full abstract training data using TF-IDF vectorizers\n",
        "x_full_abstract_train = abstract_vectorizer_full.fit_transform(full_abstract_trainDocs)\n",
        "# Training labels for full abstract\n",
        "y_full_abstract_train = np.asarray(full_abstract_trainLabels)\n",
        "\n",
        "# Transforming partial abstract training data using TF-IDF vectorizers\n",
        "x_part_abstract_train = abstract_vectorizer_part.fit_transform(part_abstract_trainDocs)\n",
        "# Training labels for partial abstract\n",
        "y_part_abstract_train = np.asarray(part_abstract_trainLabels)\n",
        "\n",
        "# Transforming full title training data using TF-IDF vectorizers\n",
        "x_full_title_train = title_vectorizer_full.fit_transform(full_title_trainDocs)\n",
        "# Training labels for full abstract\n",
        "y_full_title_train = np.asarray(full_title_trainLabels)\n",
        "\n",
        "# Transforming partial title training data using TF-IDF vectorizers\n",
        "x_part_title_train = title_vectorizer_part.fit_transform(part_title_trainDocs)\n",
        "# Training labels for partial title\n",
        "y_part_title_train = np.asarray(part_title_trainLabels)"
      ],
      "metadata": {
        "colab": {
          "base_uri": "https://localhost:8080/"
        },
        "id": "mvRpNvzraz96",
        "outputId": "91e6359e-82f3-410a-9fd8-562b509786d0"
      },
      "execution_count": null,
      "outputs": [
        {
          "output_type": "stream",
          "name": "stderr",
          "text": [
            "/usr/local/lib/python3.10/dist-packages/sklearn/feature_extraction/text.py:528: UserWarning: The parameter 'token_pattern' will not be used since 'tokenizer' is not None'\n",
            "  warnings.warn(\n"
          ]
        }
      ]
    },
    {
      "cell_type": "code",
      "source": [
        "# Convert dataframes to list for model testing\n",
        "abstract_testDocs = validation_abstract_df.abstract.tolist()\n",
        "abstract_testLabels = validation_abstract_df.label.tolist()\n",
        "title_testDocs = validation_title_df.title.tolist()\n",
        "title_testLabels = validation_title_df.label.tolist()\n",
        "\n",
        "# Transforming full abstract testing data using TF-IDF vectorizers\n",
        "x_full_abstract_test = abstract_vectorizer_full.transform(abstract_testDocs)\n",
        "# Testing labels for full abstract\n",
        "y_full_abstract_test = np.asarray(abstract_testLabels)\n",
        "\n",
        "# Transforming partial abstract testing data using TF-IDF vectorizers\n",
        "x_part_abstract_test = abstract_vectorizer_part.transform(abstract_testDocs)\n",
        "# Testing labels for partial abstract\n",
        "y_part_abstract_test = np.asarray(abstract_testLabels)\n",
        "\n",
        "# Transforming full title testing data using TF-IDF vectorizers\n",
        "x_full_title_test = title_vectorizer_full.transform(title_testDocs)\n",
        "# Testing labels for full title\n",
        "y_full_title_test = np.asarray(title_testLabels)\n",
        "\n",
        "# Transforming partial title testing data using TF-IDF vectorizers\n",
        "x_part_title_test = title_vectorizer_part.transform(title_testDocs)\n",
        "# Testing labels for partial title\n",
        "y_part_title_test = np.asarray(title_testLabels)"
      ],
      "metadata": {
        "id": "KP3DdWlXbJNY"
      },
      "execution_count": null,
      "outputs": []
    },
    {
      "cell_type": "markdown",
      "metadata": {
        "id": "x6_LZOiILsRt"
      },
      "source": [
        "### Part 1A: Statistical Method\n",
        "\n",
        "###Train the models for each configuration using LinearSVC model"
      ]
    },
    {
      "cell_type": "code",
      "source": [
        "#  Define function for training a statistical model using the Linear Support Vector Classifier (LinearSVC)\n",
        "def statistical_model_training(x_train, y_train):\n",
        "    model = LinearSVC(max_iter = 1000)\n",
        "    model.fit(x_train, y_train)\n",
        "    return model"
      ],
      "metadata": {
        "id": "KW38miQBk6ay"
      },
      "execution_count": null,
      "outputs": []
    },
    {
      "cell_type": "code",
      "source": [
        "# Define a dictionary mapping dataset descriptions to their respective training and testing sets\n",
        "dataset_mappings = {\n",
        "    \"First 1000 Titles Dataset\": (x_part_title_train, y_part_title_train, x_part_title_test, y_part_title_test),\n",
        "    \"First 1000 Abstracts Dataset\": (x_part_abstract_train, y_part_abstract_train, x_part_abstract_test, y_part_abstract_test),\n",
        "    \"Full Titles Dataset\": (x_full_title_train, y_full_title_train, x_full_title_test, y_full_title_test),\n",
        "    \"Full Abstracts Dataset\": (x_full_abstract_train, y_full_abstract_train, x_full_abstract_test, y_full_abstract_test)\n",
        "}\n",
        "\n",
        "# Initialize an empty dictionary to store trained models\n",
        "trained_models = {}\n",
        "\n",
        "# Loop through each item in the dataset mappings to train the model\n",
        "for description, (X_train, y_train, _, _) in dataset_mappings.items():\n",
        "    print(f\"Training LinearSVC model for {description}\")\n",
        "    trained_models[description] = statistical_model_training(X_train, y_train)"
      ],
      "metadata": {
        "colab": {
          "base_uri": "https://localhost:8080/"
        },
        "id": "NyGLoBbBlzr5",
        "outputId": "fd2e5bf7-f5ee-436f-db41-036ab42ff59c"
      },
      "execution_count": null,
      "outputs": [
        {
          "output_type": "stream",
          "name": "stdout",
          "text": [
            "Training LinearSVC model for First 1000 Titles Dataset\n",
            "Training LinearSVC model for First 1000 Abstracts Dataset\n",
            "Training LinearSVC model for Full Titles Dataset\n",
            "Training LinearSVC model for Full Abstracts Dataset\n"
          ]
        }
      ]
    },
    {
      "cell_type": "markdown",
      "metadata": {
        "id": "0OLEe794LsRu"
      },
      "source": [
        "### Part 1B: RNN Method\n",
        "\n",
        "### Train the models for each configuration using RNN method"
      ]
    },
    {
      "cell_type": "code",
      "source": [
        "# Initialize a basic English tokenizer\n",
        "tokenizer = get_tokenizer('basic_english')\n",
        "\n",
        "# Define a generator function to yield a list of tokens for each text in the dataset\n",
        "def yield_tokens(data_iter):\n",
        "    for _, text in data_iter:\n",
        "        yield tokenizer(text)\n",
        "\n",
        "# Define a function to convert dataframe column to a list of tuples containing labels and text\n",
        "def df_to_list(df, field):\n",
        "    data = []\n",
        "    for index, row in df.iterrows():\n",
        "      text = row[field]\n",
        "      label = row['label']\n",
        "      data.append((int(label), text.strip()))\n",
        "    return data"
      ],
      "metadata": {
        "id": "Qf4H09n__ABS"
      },
      "execution_count": null,
      "outputs": []
    },
    {
      "cell_type": "code",
      "source": [
        "# Convert dataframe columns to lists of tuples for RNN training\n",
        "# For full abstract training data\n",
        "rnn_full_abstract_train = df_to_list(full_abstract_train_df, 'abstract')\n",
        "# For partial abstract training data\n",
        "rnn_part_abstract_train = df_to_list(part_abstract_train_df, 'abstract')\n",
        "# For abstract testing data\n",
        "rnn_test_abstract = df_to_list(test_abstract_df, 'abstract')\n",
        "# For abstract validation data\n",
        "rnn_validation_abstract = df_to_list(validation_abstract_df, 'abstract')\n",
        "\n",
        "# For full title training data\n",
        "rnn_full_title_train = df_to_list(full_title_train_df, 'title')\n",
        "# For partial title training data\n",
        "rnn_part_title_train = df_to_list(part_title_train_df, 'title')\n",
        "# For title testing data\n",
        "rnn_test_title = df_to_list(test_title_df, 'title')\n",
        "# For title validation data\n",
        "rnn_validation_title = df_to_list(validation_title_df, 'title')"
      ],
      "metadata": {
        "id": "SkOtnhj-e9MP"
      },
      "execution_count": null,
      "outputs": []
    },
    {
      "cell_type": "code",
      "source": [
        " # Initialize a stem tokenizer for tokenization and stemming\n",
        "tokenizer = StemTokenizer()\n",
        "\n",
        "# Define function to build vocabulary from text data\n",
        "def build_vocab(df):\n",
        "  vocab = build_vocab_from_iterator(yield_tokens(df), specials = [\"<unk>\"])\n",
        "  vocab.set_default_index(vocab[\"<unk>\"])\n",
        "  return vocab\n",
        "\n",
        "# Define function for data processing pipeline\n",
        "def text_pipeline(vocab, x):\n",
        "    return vocab(tokenizer(x))\n",
        "\n",
        "# Define function for collating a batch of labeled text data for input into the model\n",
        "def collate_batch(batch, vocab):\n",
        "    label_list, text_list = [], []\n",
        "    for _label, _text in batch:\n",
        "        label_list.append(_label)\n",
        "        processed_text = torch.tensor(text_pipeline(vocab, _text), dtype=torch.int64)\n",
        "        text_list.append(processed_text)\n",
        "    return torch.tensor(label_list, dtype=torch.int64), pad_sequence(text_list, padding_value=vocab[\"<unk>\"])"
      ],
      "metadata": {
        "id": "qsxPbAuGn7A_"
      },
      "execution_count": null,
      "outputs": []
    },
    {
      "cell_type": "code",
      "source": [
        "# Build vocab for all training datasets\n",
        "vocab_rnn_full_abstract = build_vocab(rnn_full_abstract_train)\n",
        "vocab_rnn_part_abstract = build_vocab(rnn_part_abstract_train)\n",
        "vocab_rnn_full_title = build_vocab(rnn_full_title_train)\n",
        "vocab_rnn_part_title = build_vocab(rnn_part_title_train)"
      ],
      "metadata": {
        "id": "43kME_1xoMoQ"
      },
      "execution_count": null,
      "outputs": []
    },
    {
      "cell_type": "code",
      "source": [
        "# Define function to print information about the vocabulary and label\n",
        "def print_vocabulary_and_labels(description, vocab, data):\n",
        "    # Print first 10 words from the vocabulary\n",
        "    print(f\"{description} Vocabulary Sample:\", list(vocab.get_itos())[:10])\n",
        "\n",
        "    # Extract unique labels from the training data\n",
        "    unique_labels = set(label for label, _ in data)\n",
        "    print(f\"{description} Unique Labels:\", unique_labels)\n",
        "\n",
        "    # Count total vocabulary and label size\n",
        "    vocab_size = len(vocab)\n",
        "    label_size = len(unique_labels)\n",
        "    print(f\"{description} Unique tokens in TEXT vocabulary: {vocab_size}\")\n",
        "    print(f\"{description} Unique tokens in LABEL vocabulary: {label_size}\\n\")\n",
        "    return [vocab_size, label_size]"
      ],
      "metadata": {
        "id": "hcC3M5hs7NDU"
      },
      "execution_count": null,
      "outputs": []
    },
    {
      "cell_type": "code",
      "source": [
        "# Print vocabulary and label information for different datasets\n",
        "full_abstract_vocab_sample = print_vocabulary_and_labels(\"Full Abstract\", vocab_rnn_full_abstract, rnn_full_abstract_train)\n",
        "part_abstract_vocab_sample = print_vocabulary_and_labels(\"Part Abstract\", vocab_rnn_part_abstract, rnn_part_abstract_train)\n",
        "full_title_vocab_sample = print_vocabulary_and_labels(\"Full Title\", vocab_rnn_full_title, rnn_full_title_train)\n",
        "part_title_vocab_sample = print_vocabulary_and_labels(\"Part Title\", vocab_rnn_part_title, rnn_part_title_train)"
      ],
      "metadata": {
        "colab": {
          "base_uri": "https://localhost:8080/"
        },
        "id": "Gr-24Ks59ZK6",
        "outputId": "ff41583f-bb2b-479c-9b1d-41d76e1fde25"
      },
      "execution_count": null,
      "outputs": [
        {
          "output_type": "stream",
          "name": "stdout",
          "text": [
            "Full Abstract Vocabulary Sample: ['<unk>', 'the', ',', '.', 'of', 'and', 'to', 'a', 'in', 'we']\n",
            "Full Abstract Unique Labels: {0, 1}\n",
            "Full Abstract Unique tokens in TEXT vocabulary: 263263\n",
            "Full Abstract Unique tokens in LABEL vocabulary: 2\n",
            "\n",
            "Part Abstract Vocabulary Sample: ['<unk>', 'the', ',', '.', 'of', 'and', 'to', 'a', 'in', 'we']\n",
            "Part Abstract Unique Labels: {0, 1}\n",
            "Part Abstract Unique tokens in TEXT vocabulary: 9366\n",
            "Part Abstract Unique tokens in LABEL vocabulary: 2\n",
            "\n",
            "Full Title Vocabulary Sample: ['<unk>', 'for', ':', 'and', 'of', 'a', 'with', 'in', 'learn', 'model']\n",
            "Full Title Unique Labels: {0, 1}\n",
            "Full Title Unique tokens in TEXT vocabulary: 67498\n",
            "Full Title Unique tokens in LABEL vocabulary: 2\n",
            "\n",
            "Part Title Vocabulary Sample: ['<unk>', 'for', ':', 'and', 'of', 'a', 'in', 'learn', 'with', 'model']\n",
            "Part Title Unique Labels: {0, 1}\n",
            "Part Title Unique tokens in TEXT vocabulary: 2554\n",
            "Part Title Unique tokens in LABEL vocabulary: 2\n",
            "\n"
          ]
        }
      ]
    },
    {
      "cell_type": "code",
      "source": [
        "from torch.utils.data import Dataset\n",
        "\n",
        "# Define dataset class for text data\n",
        "class TextDataset(Dataset):\n",
        "    # Initialize the dataset object\n",
        "    def __init__(self, data):\n",
        "        self.data = data\n",
        "\n",
        "    # Return the number of items in the dataset\n",
        "    def __len__(self):\n",
        "        return len(self.data)\n",
        "\n",
        "    # Retrieve a specific item from the dataset by index\n",
        "    def __getitem__(self, idx):\n",
        "        return self.data[idx]"
      ],
      "metadata": {
        "id": "bAsLmXRECdba"
      },
      "execution_count": null,
      "outputs": []
    },
    {
      "cell_type": "code",
      "source": [
        " # Create instances of TextDataset for different datasets\n",
        "# For full abstract training data\n",
        "train_full_abstract_dataset = TextDataset(rnn_full_abstract_train)\n",
        "# For partial abstract training data\n",
        "train_part_abstract_dataset = TextDataset(rnn_part_abstract_train)\n",
        "# For abstract testing data\n",
        "test_abstract_dataset = TextDataset(rnn_test_abstract)\n",
        "# For abstract validation data\n",
        "validation_abstract_dataset = TextDataset(rnn_validation_abstract)\n",
        "\n",
        "# For full title training data\n",
        "train_full_title_dataset = TextDataset(rnn_full_title_train)\n",
        "# For partial title training data\n",
        "train_part_title_dataset = TextDataset(rnn_part_title_train)\n",
        "# For title testing data\n",
        "test_title_dataset = TextDataset(rnn_test_title)\n",
        "# For title validation data\n",
        "validation_title_dataset = TextDataset(rnn_validation_title)"
      ],
      "metadata": {
        "id": "KzI8vxf8CvDz"
      },
      "execution_count": null,
      "outputs": []
    },
    {
      "cell_type": "code",
      "source": [
        "# Create DataLoader instances for different datasets\n",
        "# For full abstract training data\n",
        "train_full_abstract_dataloader = DataLoader(train_full_abstract_dataset, batch_size=32, shuffle=True, collate_fn=lambda batch: collate_batch(batch, vocab_rnn_full_abstract))\n",
        "# For partial abstract training data\n",
        "train_part_abstract_dataloader = DataLoader(train_part_abstract_dataset, batch_size=32, shuffle=True, collate_fn=lambda batch: collate_batch(batch, vocab_rnn_part_abstract))\n",
        "# For full abstract testing data\n",
        "test_full_abstract_dataloader = DataLoader(test_abstract_dataset, batch_size=32, shuffle=False, collate_fn=lambda batch: collate_batch(batch, vocab_rnn_full_abstract))\n",
        "# For partial abstract testing data\n",
        "test_part_abstract_dataloader = DataLoader(test_abstract_dataset, batch_size=32, shuffle=False, collate_fn=lambda batch: collate_batch(batch, vocab_rnn_part_abstract))\n",
        "# For full abstract validation data\n",
        "validation_full_abstract_dataloader = DataLoader(validation_abstract_dataset, batch_size=32, shuffle=False, collate_fn=lambda batch: collate_batch(batch, vocab_rnn_full_abstract))\n",
        "# For partial abstract validation data\n",
        "validation_part_abstract_dataloader = DataLoader(validation_abstract_dataset, batch_size=32, shuffle=False, collate_fn=lambda batch: collate_batch(batch, vocab_rnn_part_abstract))\n",
        "\n",
        "# For full title training data\n",
        "train_full_title_dataloader = DataLoader(train_full_title_dataset, batch_size=32, shuffle=True, collate_fn=lambda batch: collate_batch(batch, vocab_rnn_full_title))\n",
        "# For partial title training data\n",
        "train_part_title_dataloader = DataLoader(train_part_title_dataset, batch_size=32, shuffle=True, collate_fn=lambda batch: collate_batch(batch, vocab_rnn_part_title))\n",
        "# For full title testing data\n",
        "test_full_title_dataloader = DataLoader(test_title_dataset, batch_size=32, shuffle=False, collate_fn=lambda batch: collate_batch(batch, vocab_rnn_full_title))\n",
        "# For partial title testing data\n",
        "test_part_title_dataloader = DataLoader(test_title_dataset, batch_size=32, shuffle=False, collate_fn=lambda batch: collate_batch(batch, vocab_rnn_part_title))\n",
        "# For full title validation data\n",
        "validation_full_title_dataloader = DataLoader(validation_title_dataset, batch_size=32, shuffle=False, collate_fn=lambda batch: collate_batch(batch, vocab_rnn_full_title))\n",
        "# For partial title validation data\n",
        "validation_part_title_dataloader = DataLoader(validation_title_dataset, batch_size=32, shuffle=False, collate_fn=lambda batch: collate_batch(batch, vocab_rnn_part_title))"
      ],
      "metadata": {
        "id": "LpOL0Bo1_CfC"
      },
      "execution_count": null,
      "outputs": []
    },
    {
      "cell_type": "code",
      "source": [
        " # Define function to print the first batch of data from a DataLoader\n",
        "def print_first_batch(dataloader, description):\n",
        "    try:\n",
        "        first_batch = next(iter(dataloader))\n",
        "        print(f\"First batch from {description} DataLoader:\")\n",
        "        print(f\"Features (text data): {first_batch[0]}\")\n",
        "        print(f\"Labels: {first_batch[1]}\\n\")\n",
        "    except StopIteration:\n",
        "        print(f\"The {description} DataLoader is empty.\\n\")\n",
        "    except Exception as e:\n",
        "        print(f\"An error occurred while accessing the {description} DataLoader: {str(e)}\\n\")"
      ],
      "metadata": {
        "id": "s-NQth_8_sqv"
      },
      "execution_count": null,
      "outputs": []
    },
    {
      "cell_type": "code",
      "source": [
        "# Print the first batch of data from a DataLoader\n",
        "print_first_batch(train_full_abstract_dataloader, 'full abstract')\n",
        "print_first_batch(train_part_abstract_dataloader, 'part abstract')\n",
        "print_first_batch(train_full_title_dataloader, 'full title')\n",
        "print_first_batch(train_part_title_dataloader, 'part title')"
      ],
      "metadata": {
        "colab": {
          "base_uri": "https://localhost:8080/"
        },
        "id": "NKSvgMVNAVXh",
        "outputId": "72d8ddea-d4dd-4eda-efb6-982abbb2569f"
      },
      "execution_count": null,
      "outputs": [
        {
          "output_type": "stream",
          "name": "stdout",
          "text": [
            "First batch from full abstract DataLoader:\n",
            "Features (text data): tensor([0, 0, 0, 0, 0, 0, 0, 0, 1, 0, 0, 0, 0, 1, 0, 0, 0, 1, 0, 0, 0, 0, 0, 0,\n",
            "        1, 0, 0, 0, 1, 0, 0, 0])\n",
            "Labels: tensor([[1718,  387,    1,  ...,    9,   17,    8],\n",
            "        [1726,    5,  108,  ...,   96,   46,   17],\n",
            "        [ 264,   89, 1397,  ...,    1,  273,   46],\n",
            "        ...,\n",
            "        [   0,    0,    0,  ...,    0,    0, 1856],\n",
            "        [   0,    0,    0,  ...,    0,    0,  388],\n",
            "        [   0,    0,    0,  ...,    0,    0,    3]])\n",
            "\n",
            "First batch from part abstract DataLoader:\n",
            "Features (text data): tensor([0, 0, 0, 1, 0, 0, 1, 0, 0, 0, 0, 1, 0, 0, 0, 1, 0, 0, 0, 0, 0, 0, 0, 0,\n",
            "        1, 0, 0, 0, 0, 0, 1, 0])\n",
            "Labels: tensor([[  9,  17,   7,  ...,   9,  96, 316],\n",
            "        [ 26,  46, 109,  ..., 256,  23,  97],\n",
            "        [ 27,  84, 101,  ..., 369,  10,   7],\n",
            "        ...,\n",
            "        [  0,   0,   0,  ...,   0,   0,   0],\n",
            "        [  0,   0,   0,  ...,   0,   0,   0],\n",
            "        [  0,   0,   0,  ...,   0,   0,   0]])\n",
            "\n",
            "First batch from full title DataLoader:\n",
            "Features (text data): tensor([0, 1, 1, 0, 0, 0, 0, 0, 1, 1, 1, 0, 0, 0, 0, 0, 0, 1, 1, 0, 0, 0, 0, 1,\n",
            "        0, 1, 1, 0, 0, 0, 0, 0])\n",
            "Labels: tensor([[ 2516, 23756,   536,  ...,    48,    48,    12],\n",
            "        [  194,     2,  1227,  ...,    29, 36037,   767],\n",
            "        [    9,   323,  1297,  ...,    26,    27,    53],\n",
            "        ...,\n",
            "        [    0,     0,     0,  ...,     0,     0,     0],\n",
            "        [    0,     0,     0,  ...,     0,     0,     0],\n",
            "        [    0,     0,     0,  ...,     0,     0,     0]])\n",
            "\n",
            "First batch from part title DataLoader:\n",
            "Features (text data): tensor([0, 0, 1, 0, 0, 0, 1, 0, 0, 0, 0, 0, 0, 1, 0, 0, 1, 0, 1, 0, 0, 1, 0, 0,\n",
            "        0, 0, 0, 0, 1, 0, 1, 0])\n",
            "Labels: tensor([[ 211, 1408,   15,   41,  697,  150, 2084,  129,  503, 2457, 1274, 2069,\n",
            "           50,   11, 1448,  892, 2552,  167,  140, 2388,   19,  183,  128, 2198,\n",
            "           19,  105,  733,  995,  166,  761,  129,  945],\n",
            "        [   4,    2,   11,   10,   28,  209,    2,   34,   28,   40,  776,    2,\n",
            "         1551, 2455,   10,   11,    2,   66,   16,   36,   18,  241,   50,    2,\n",
            "          142,   40,  295,    2,  100,  128,    8,  178],\n",
            "        [1303,  471, 1461,   56,    4, 1509,  323,    1,    4,   24, 2479, 2071,\n",
            "           12,  182,    2,  786,  166,  267,    9,    4,   12,   14,  319,  219,\n",
            "            1,   52,   19,   17,  461,    3,  334,  164],\n",
            "        [   3,  156,    4,    4,  116,   23,  218,  142,  145,    1,  772,  117,\n",
            "            2,    4,    7,    2,  176,   14,    8,  595,    1,   51,    2,    3,\n",
            "         1604,    7,  168,  279,  454,   47,    2,  748],\n",
            "        [1257,   14,  431,   29,  129,    8,   27,  189, 2129,  156,   75,   59,\n",
            "            7,  108,  242,  489,   29,   51,  811,  622,  366,  643, 2122,  352,\n",
            "          489,   25,    7,   14,    1,   33,  812,    3],\n",
            "        [  42,  295,   16,  329,    8,   33,   22,    0,   12,   13,    8,    1,\n",
            "           14,    7,   11,   21,   24,  527,  320,   10,   48,  133,   45,  333,\n",
            "           24,   44,  147, 2344,   60,    1,  351, 1462],\n",
            "        [   1,   12,    0,    6, 2478,    3,  385,    0,    8,    2,  910, 1815,\n",
            "          166,    1,  887,    6,   32,  216,    0,   31,  434,   28,   14,    4,\n",
            "            2,  330, 1727,   89,   42,   23,    4,  748],\n",
            "        [1113,  143,    0, 1457,  522,  562,  640,    0,  363, 2302,    0,  107,\n",
            "          446,   63,  175,   11,  944,  456,    0,   32,  124,   94,   83, 1923,\n",
            "            5,    0,   14,  466,   46, 1036,   57,    4],\n",
            "        [ 436,    0,    0,  121, 1128,  180,    4,    0,  440,   14,    0,   27,\n",
            "          578,   46,    0,  566,    9,    0,    0,  210,    4,   15, 1189, 1264,\n",
            "         1285,    0,  275,   16,    0,   10,   16, 2431],\n",
            "        [  72,    0,    0,    0,  570,   59, 1359,    0,  132, 1020,    0,    0,\n",
            "            6,    0,    0,    4,    0,    0,    0, 1386,  996, 1979,   69,    6,\n",
            "           28,    0,    7,    9,    0,   13,    9, 2229],\n",
            "        [ 418,    0,    0,    0,    0,    0,  239,    0,    0,   71,    0,    0,\n",
            "           84,    0,    0,  163,    0,    0,    0,    3,  378,   16,    0,  321,\n",
            "            0,    0,   33,  377,    0,    0,    0,   42],\n",
            "        [  11,    0,    0,    0,    0,    0, 2054,    0,    0,    0,    0,    0,\n",
            "           10,    0,    0,   47,    0,    0,    0,   43,    0,    0,    0,  143,\n",
            "            0,    0,   49,  291,    0,    0,    0,    0],\n",
            "        [2002,    0,    0,    0,    0,    0,  206,    0,    0,    0,    0,    0,\n",
            "            0,    0,    0, 2049,    0,    0,    0,   18,    0,    0,    0,   36,\n",
            "            0,    0,    0,    0,    0,    0,    0,    0],\n",
            "        [ 208,    0,    0,    0,    0,    0,    0,    0,    0,    0,    0,    0,\n",
            "            0,    0,    0,    0,    0,    0,    0,   12,    0,    0,    0,    0,\n",
            "            0,    0,    0,    0,    0,    0,    0,    0]])\n",
            "\n"
          ]
        }
      ]
    },
    {
      "cell_type": "code",
      "execution_count": null,
      "metadata": {
        "id": "-TB3WBnVLsRu"
      },
      "outputs": [],
      "source": [
        "import torch.nn as nn\n",
        "\n",
        "# Define an RNN class\n",
        "class RNN(nn.Module):\n",
        "    # Initializes the RNN model with the given dimensions\n",
        "    def __init__(self, input_dim, embedding_dim, hidden_dim, output_dim):\n",
        "        super().__init__()\n",
        "        self.embedding = nn.Embedding(input_dim, embedding_dim)\n",
        "        self.rnn = nn.RNN(embedding_dim, hidden_dim)\n",
        "        self.fc = nn.Linear(hidden_dim, output_dim)\n",
        "\n",
        "    # Forward pass of the model\n",
        "    def forward(self, text):\n",
        "        embedded = self.embedding(text)\n",
        "        output, hidden = self.rnn(embedded)\n",
        "        assert torch.equal(output[-1,:,:], hidden.squeeze(0))\n",
        "        return self.fc(hidden.squeeze(0))\n"
      ]
    },
    {
      "cell_type": "code",
      "source": [
        "# Define function to create and initialize an RNN model for training\n",
        "def rnn_train_model(vocab_size, embedding_dim = 100, hidden_dim = 256, output_dim = 1):\n",
        "  INPUT_DIM = vocab_size\n",
        "  EMBEDDING_DIM = embedding_dim\n",
        "  HIDDEN_DIM = hidden_dim\n",
        "  OUTPUT_DIM = output_dim\n",
        "  model = RNN(INPUT_DIM, EMBEDDING_DIM, HIDDEN_DIM, OUTPUT_DIM)\n",
        "  return model\n"
      ],
      "metadata": {
        "id": "AjBSTp3kKQ1X"
      },
      "execution_count": null,
      "outputs": []
    },
    {
      "cell_type": "code",
      "source": [
        "# Initialize RNN model with the specified parameters\n",
        "# For full abstract dataset\n",
        "full_abstract_rnn_model = rnn_train_model(full_abstract_vocab_sample[0], 100, 256, 1)\n",
        "# For partial abstract dataset\n",
        "part_abstract_rnn_model = rnn_train_model(part_abstract_vocab_sample[0], 100, 256, 1)\n",
        "# For full title dataset\n",
        "full_title_rnn_model = rnn_train_model(full_title_vocab_sample[0], 100, 256, 1)\n",
        "# For partial title dataset\n",
        "part_title_rnn_model = rnn_train_model(part_title_vocab_sample[0], 100, 256, 1)\n"
      ],
      "metadata": {
        "id": "QNqacap7CkCE"
      },
      "execution_count": null,
      "outputs": []
    },
    {
      "cell_type": "code",
      "source": [
        "# Define function to count the number of trainable parameters\n",
        "def count_parameters(model):\n",
        "    return sum(p.numel() for p in model.parameters() if p.requires_grad)\n",
        "\n",
        "# Print the number of trainable parameters for each model\n",
        "print(f'The model has {count_parameters(full_abstract_rnn_model):,} trainable parameters')\n",
        "print(f'The model has {count_parameters(part_abstract_rnn_model):,} trainable parameters')\n",
        "print(f'The model has {count_parameters(full_title_rnn_model):,} trainable parameters')\n",
        "print(f'The model has {count_parameters(part_title_rnn_model):,} trainable parameters')"
      ],
      "metadata": {
        "colab": {
          "base_uri": "https://localhost:8080/"
        },
        "id": "4jCteEr3KqK5",
        "outputId": "c365a0b5-4dfe-48ac-d773-316a7f392fce"
      },
      "execution_count": null,
      "outputs": [
        {
          "output_type": "stream",
          "name": "stdout",
          "text": [
            "The model has 26,418,205 trainable parameters\n",
            "The model has 1,028,505 trainable parameters\n",
            "The model has 6,841,705 trainable parameters\n",
            "The model has 347,305 trainable parameters\n"
          ]
        }
      ]
    },
    {
      "cell_type": "code",
      "source": [
        "# Define optimizers for training RNN models on different datasets\n",
        "# For full abstract dataset\n",
        "full_abstract_optimizer = optim.SGD(full_abstract_rnn_model.parameters(), lr = 1e-3)\n",
        "# For partial abstract dataset\n",
        "part_abstract_optimizer = optim.SGD(part_abstract_rnn_model.parameters(), lr = 1e-3)\n",
        "# For full title dataset\n",
        "full_title_optimizer = optim.SGD(full_title_rnn_model.parameters(), lr = 1e-3)\n",
        "# For partial title dataset\n",
        "part_title_optimizer = optim.SGD(part_title_rnn_model.parameters(), lr = 1e-3)"
      ],
      "metadata": {
        "id": "N2bOhOolKtQB"
      },
      "execution_count": null,
      "outputs": []
    },
    {
      "cell_type": "code",
      "source": [
        "# Choose device based on GPU availability\n",
        "device = torch.device('cuda' if torch.cuda.is_available() else 'cpu')\n",
        "\n",
        "# Define loss function and move it to the chosen device\n",
        "criterion = nn.BCEWithLogitsLoss().to(device)\n",
        "\n",
        "# Move each model to the device\n",
        "full_abstract_rnn_model = full_abstract_rnn_model.to(device)\n",
        "part_abstract_rnn_model = part_abstract_rnn_model.to(device)\n",
        "full_title_rnn_model = full_title_rnn_model.to(device)\n",
        "part_title_rnn_model = part_title_rnn_model.to(device)\n"
      ],
      "metadata": {
        "id": "7yfTbGf-K6nf"
      },
      "execution_count": null,
      "outputs": []
    },
    {
      "cell_type": "code",
      "source": [
        "# Define function to calculate the binary accuracy of predictions\n",
        "def binary_accuracy(preds, y):\n",
        "    # Round predictions to the closest integer\n",
        "    rounded_preds = torch.round(torch.sigmoid(preds))\n",
        "    correct = (rounded_preds == y).float() #convert into float for division\n",
        "    acc = correct.sum() / len(correct)\n",
        "    return acc"
      ],
      "metadata": {
        "id": "gxAqBYARK_ps"
      },
      "execution_count": null,
      "outputs": []
    },
    {
      "cell_type": "code",
      "source": [
        "# Define function to train the model on the training data\n",
        "def train(model, dataloader, optimizer, criterion, device):\n",
        "    # Set the model to training mode\n",
        "    model.train()\n",
        "    # Initialize epoch loss and accuracy\n",
        "    epoch_loss = 0\n",
        "    epoch_acc = 0\n",
        "    # Iterate over batches in the dataloader\n",
        "    for labels, texts in dataloader:\n",
        "        # Move tensors to the appropriate device\n",
        "        labels = labels.to(device)\n",
        "        texts = texts.to(device)\n",
        "        # Zero the gradients\n",
        "        optimizer.zero_grad()\n",
        "        predictions = model(texts).squeeze(1)\n",
        "        loss = criterion(predictions, labels.float())\n",
        "        acc = binary_accuracy(predictions, labels)\n",
        "        # Perform backpropagation\n",
        "        loss.backward()\n",
        "        optimizer.step()\n",
        "        # Update epoch loss and accuracy\n",
        "        epoch_loss += loss.item()\n",
        "        epoch_acc += acc.item()\n",
        "    # Return average epoch loss and accuracy\n",
        "    return epoch_loss / len(dataloader), epoch_acc / len(dataloader)"
      ],
      "metadata": {
        "id": "xxzzARvqLJFN"
      },
      "execution_count": null,
      "outputs": []
    },
    {
      "cell_type": "code",
      "source": [
        "# Define function to evaluate the model\n",
        "def evaluate(model, dataloader, criterion, device):\n",
        "    # Set the model to evaluation mode\n",
        "    model.eval()\n",
        "    # Initialize epoch loss and accuracy\n",
        "    epoch_loss = 0\n",
        "    epoch_acc = 0\n",
        "    # Iterate over batches in the dataloader\n",
        "    with torch.no_grad():\n",
        "        for labels, texts in dataloader:\n",
        "            # Move tensors to the appropriate device\n",
        "            labels = labels.to(device)\n",
        "            texts = texts.to(device)\n",
        "            # Forward pass\n",
        "            predictions = model(texts).squeeze(1)\n",
        "            # Calculate loss and accuracy\n",
        "            loss = criterion(predictions, labels.float())\n",
        "            acc = binary_accuracy(predictions, labels)\n",
        "            # Update epoch loss and accuracy\n",
        "            epoch_loss += loss.item()\n",
        "            epoch_acc += acc.item()\n",
        "\n",
        "    # Return average epoch loss and accuracy\n",
        "    return epoch_loss / len(dataloader), epoch_acc / len(dataloader)"
      ],
      "metadata": {
        "id": "LuA7sIG7LPcO"
      },
      "execution_count": null,
      "outputs": []
    },
    {
      "cell_type": "code",
      "source": [
        "# Define function to compute the elapsed time between the start and end of an epoch\n",
        "def epoch_time(start_time, end_time):\n",
        "    elapsed_time = end_time - start_time\n",
        "    elapsed_mins = int(elapsed_time / 60)\n",
        "    elapsed_secs = int(elapsed_time - (elapsed_mins * 60))\n",
        "    return elapsed_mins, elapsed_secs"
      ],
      "metadata": {
        "id": "ReaxUbelLVeL"
      },
      "execution_count": null,
      "outputs": []
    },
    {
      "cell_type": "code",
      "source": [
        "# Define function to train the model for multiple epochs and validates it on the validation data\n",
        "def train_epochs(model, train_dataloader, validation_dataloader, optimizer, criterion, model_path, device, n_epochs=5):\n",
        "    # Initialize best validation loss\n",
        "    best_valid_loss = float('inf')\n",
        "    # Iterate over epochs\n",
        "    for epoch in range(n_epochs):\n",
        "        start_time = time.time()\n",
        "        # Training step\n",
        "        train_loss, train_acc = train(model, train_dataloader, optimizer, criterion, device)\n",
        "        # Evaluation step\n",
        "        valid_loss, valid_acc = evaluate(model, validation_dataloader, criterion, device)\n",
        "        # Compute elapsed time\n",
        "        end_time = time.time()\n",
        "        epoch_mins, epoch_secs = epoch_time(start_time, end_time)\n",
        "        # Save the model if validation loss has improved\n",
        "        if valid_loss < best_valid_loss:\n",
        "            best_valid_loss = valid_loss\n",
        "            torch.save(model.state_dict(), model_path)\n",
        "        # Print summary statistics for the epoch\n",
        "        print(f'Epoch: {epoch+1:02} | Epoch Time: {epoch_mins}m {epoch_secs}s')\n",
        "        print(f'\\tTrain Loss: {train_loss:.3f} | Train Acc: {train_acc*100:.2f}%')\n",
        "        print(f'\\t Val. Loss: {valid_loss:.3f} |  Val. Acc: {valid_acc*100:.2f}%')"
      ],
      "metadata": {
        "id": "70pzdVoqJDX0"
      },
      "execution_count": null,
      "outputs": []
    },
    {
      "cell_type": "code",
      "source": [
        "# Train RNN models on each dataset for 5 epochs and print summaries\n",
        "# For partial title dataset\n",
        "train_epochs(part_title_rnn_model, train_part_title_dataloader, validation_part_title_dataloader, part_title_optimizer, criterion, 'part_title_RNN_model.pt', device, 5)\n",
        "print('\\n\\n\\n')\n",
        "# For partial abstract dataset\n",
        "train_epochs(part_abstract_rnn_model, train_part_abstract_dataloader, validation_part_abstract_dataloader, part_abstract_optimizer, criterion, 'part_abstract_RNN_model.pt', device, 5)\n",
        "print('\\n\\n\\n')\n",
        "# For full title dataset\n",
        "train_epochs(full_title_rnn_model, train_full_title_dataloader, validation_full_title_dataloader, full_title_optimizer, criterion, 'full_title_RNN_model.pt', device, 5)\n",
        "print('\\n\\n\\n')\n",
        "# For full abstract dataset\n",
        "train_epochs(full_abstract_rnn_model, train_full_abstract_dataloader, validation_full_abstract_dataloader, full_abstract_optimizer, criterion, 'full_abstract_RNN_model.pt', device, 5)\n",
        "print('\\n\\n\\n')"
      ],
      "metadata": {
        "colab": {
          "base_uri": "https://localhost:8080/"
        },
        "id": "qYjFE-GuJvxD",
        "outputId": "716b449e-a381-48dd-c292-bfc9538a844f"
      },
      "execution_count": null,
      "outputs": [
        {
          "output_type": "stream",
          "name": "stdout",
          "text": [
            "Epoch: 01 | Epoch Time: 0m 9s\n",
            "\tTrain Loss: 0.661 | Train Acc: 64.36%\n",
            "\t Val. Loss: 0.617 |  Val. Acc: 72.81%\n",
            "Epoch: 02 | Epoch Time: 0m 6s\n",
            "\tTrain Loss: 0.604 | Train Acc: 72.66%\n",
            "\t Val. Loss: 0.590 |  Val. Acc: 73.08%\n",
            "Epoch: 03 | Epoch Time: 0m 7s\n",
            "\tTrain Loss: 0.590 | Train Acc: 72.36%\n",
            "\t Val. Loss: 0.582 |  Val. Acc: 73.12%\n",
            "Epoch: 04 | Epoch Time: 0m 7s\n",
            "\tTrain Loss: 0.577 | Train Acc: 72.75%\n",
            "\t Val. Loss: 0.579 |  Val. Acc: 73.13%\n",
            "Epoch: 05 | Epoch Time: 0m 7s\n",
            "\tTrain Loss: 0.577 | Train Acc: 72.95%\n",
            "\t Val. Loss: 0.579 |  Val. Acc: 73.13%\n",
            "\n",
            "\n",
            "\n",
            "\n",
            "Epoch: 01 | Epoch Time: 1m 21s\n",
            "\tTrain Loss: 0.656 | Train Acc: 70.80%\n",
            "\t Val. Loss: 0.625 |  Val. Acc: 72.37%\n",
            "Epoch: 02 | Epoch Time: 1m 20s\n",
            "\tTrain Loss: 0.613 | Train Acc: 71.88%\n",
            "\t Val. Loss: 0.599 |  Val. Acc: 72.69%\n",
            "Epoch: 03 | Epoch Time: 1m 21s\n",
            "\tTrain Loss: 0.596 | Train Acc: 72.27%\n",
            "\t Val. Loss: 0.589 |  Val. Acc: 72.82%\n",
            "Epoch: 04 | Epoch Time: 1m 21s\n",
            "\tTrain Loss: 0.598 | Train Acc: 71.39%\n",
            "\t Val. Loss: 0.586 |  Val. Acc: 72.93%\n",
            "Epoch: 05 | Epoch Time: 1m 20s\n",
            "\tTrain Loss: 0.596 | Train Acc: 71.68%\n",
            "\t Val. Loss: 0.584 |  Val. Acc: 73.07%\n",
            "\n",
            "\n",
            "\n",
            "\n",
            "Epoch: 01 | Epoch Time: 1m 7s\n",
            "\tTrain Loss: 0.586 | Train Acc: 72.41%\n",
            "\t Val. Loss: 0.577 |  Val. Acc: 73.42%\n",
            "Epoch: 02 | Epoch Time: 1m 6s\n",
            "\tTrain Loss: 0.584 | Train Acc: 72.79%\n",
            "\t Val. Loss: 0.577 |  Val. Acc: 73.52%\n",
            "Epoch: 03 | Epoch Time: 1m 6s\n",
            "\tTrain Loss: 0.584 | Train Acc: 72.85%\n",
            "\t Val. Loss: 0.576 |  Val. Acc: 73.58%\n",
            "Epoch: 04 | Epoch Time: 1m 6s\n",
            "\tTrain Loss: 0.583 | Train Acc: 72.94%\n",
            "\t Val. Loss: 0.576 |  Val. Acc: 73.64%\n",
            "Epoch: 05 | Epoch Time: 1m 6s\n",
            "\tTrain Loss: 0.582 | Train Acc: 72.97%\n",
            "\t Val. Loss: 0.574 |  Val. Acc: 73.68%\n",
            "\n",
            "\n",
            "\n",
            "\n",
            "Epoch: 01 | Epoch Time: 11m 49s\n",
            "\tTrain Loss: 0.587 | Train Acc: 72.71%\n",
            "\t Val. Loss: 0.576 |  Val. Acc: 73.77%\n",
            "Epoch: 02 | Epoch Time: 11m 47s\n",
            "\tTrain Loss: 0.583 | Train Acc: 72.97%\n",
            "\t Val. Loss: 0.575 |  Val. Acc: 73.78%\n",
            "Epoch: 03 | Epoch Time: 11m 46s\n",
            "\tTrain Loss: 0.583 | Train Acc: 72.96%\n",
            "\t Val. Loss: 0.575 |  Val. Acc: 73.78%\n",
            "Epoch: 04 | Epoch Time: 12m 0s\n",
            "\tTrain Loss: 0.583 | Train Acc: 72.98%\n",
            "\t Val. Loss: 0.575 |  Val. Acc: 73.78%\n",
            "Epoch: 05 | Epoch Time: 11m 57s\n",
            "\tTrain Loss: 0.582 | Train Acc: 72.98%\n",
            "\t Val. Loss: 0.575 |  Val. Acc: 73.78%\n",
            "\n",
            "\n",
            "\n",
            "\n"
          ]
        }
      ]
    },
    {
      "cell_type": "code",
      "source": [
        "# Load the trained state dictionaries of each RNN model\n",
        "# For partial title dataset\n",
        "part_title_rnn_model.load_state_dict(torch.load('part_title_RNN_model.pt'))\n",
        "# For partial abstract dataset\n",
        "part_abstract_rnn_model.load_state_dict(torch.load('part_abstract_RNN_model.pt'))\n",
        "# For full title dataset\n",
        "full_title_rnn_model.load_state_dict(torch.load('full_title_RNN_model.pt'))\n",
        "# For full abstract dataset\n",
        "full_abstract_rnn_model.load_state_dict(torch.load('full_abstract_RNN_model.pt'))"
      ],
      "metadata": {
        "colab": {
          "base_uri": "https://localhost:8080/"
        },
        "id": "wPgZrSN8La4d",
        "outputId": "b2792e2b-b56b-4501-c6be-11bf4131c675"
      },
      "execution_count": null,
      "outputs": [
        {
          "output_type": "execute_result",
          "data": {
            "text/plain": [
              "<All keys matched successfully>"
            ]
          },
          "metadata": {},
          "execution_count": 50
        }
      ]
    },
    {
      "cell_type": "code",
      "source": [
        "# Define function to make predictions using the trained RNN model on the test data\n",
        "def rnn_model_prediction(model, test_dataloader, device):\n",
        "  y_predict = []\n",
        "  y_test = []\n",
        "  model.eval()  # Set the model to evaluation mode\n",
        "  with torch.no_grad():\n",
        "      for labels, texts in test_dataloader:\n",
        "          # Move tensors to the appropriate device\n",
        "          texts = texts.to(device)\n",
        "          labels = labels.to(device)\n",
        "          # Forward pass\n",
        "          predictions = model(texts).squeeze(1)\n",
        "          rounded_preds = torch.round(torch.sigmoid(predictions))\n",
        "          # Move predictions to the appropriate device for further processing or storing\n",
        "          y_predict.extend(rounded_preds.cpu().numpy())\n",
        "          y_test.extend(labels.cpu().numpy())\n",
        "  return y_predict, y_test"
      ],
      "metadata": {
        "id": "HaYJL0dLFd06"
      },
      "execution_count": null,
      "outputs": []
    },
    {
      "cell_type": "markdown",
      "metadata": {
        "id": "iPufLVnBLsRu"
      },
      "source": [
        "### Part 1C:  Results for Methods\n",
        "\n",
        "#### Statistical Models Evaluation"
      ]
    },
    {
      "cell_type": "code",
      "execution_count": null,
      "metadata": {
        "id": "fPaR-1eVLsRu"
      },
      "outputs": [],
      "source": [
        "# Define function to evaluate the statistical models\n",
        "def statistical_model_evaluation(model, x_test, y_test):\n",
        "    # Make predictions using the model\n",
        "    y_predict = model.predict(x_test)\n",
        "    # Compute evaluation metrics\n",
        "    accuracy = accuracy_score(y_test, y_predict)\n",
        "    recall = recall_score(y_test, y_predict, average = 'macro')\n",
        "    precision = precision_score(y_test, y_predict, average = 'macro')\n",
        "    f1score = f1_score(y_test, y_predict, average = 'macro')\n",
        "    matthews = matthews_corrcoef(y_test, y_predict)\n",
        "    # Print evaluation metrics\n",
        "    print(\"Confusion Matrix:\")\n",
        "    print(confusion_matrix(y_test, y_predict))\n",
        "    print(f'Accuracy: {accuracy:.4f}')\n",
        "    print(f'Macro Precision: {precision:.4f}')\n",
        "    print(f'Macro Recall: {recall:.4f}')\n",
        "    print(f'Macro F1 score: {f1score:.4f}')\n",
        "    print(f'MCC: {matthews:.4f}')"
      ]
    },
    {
      "cell_type": "code",
      "source": [
        "# Evaluating the models and display evaluation metrics\n",
        "for description, (_, _, x_test, y_test) in dataset_mappings.items():\n",
        "    print(f\"Evaluating LinearSVC model for {description}:\")\n",
        "    statistical_model_evaluation(trained_models[description], x_test, y_test)"
      ],
      "metadata": {
        "colab": {
          "base_uri": "https://localhost:8080/"
        },
        "id": "GPOKXZgQbV0n",
        "outputId": "ffd6b217-5539-428c-d7a0-df312448c3df"
      },
      "execution_count": null,
      "outputs": [
        {
          "output_type": "stream",
          "name": "stdout",
          "text": [
            "Evaluating LinearSVC model for First 1000 Titles Dataset:\n",
            "Confusion Matrix:\n",
            "[[13639   429]\n",
            " [  734  4272]]\n",
            "Accuracy: 0.9390\n",
            "Macro Precision: 0.9288\n",
            "Macro Recall: 0.9114\n",
            "Macro F1 score: 0.9196\n",
            "MCC: 0.8401\n",
            "Evaluating LinearSVC model for First 1000 Abstracts Dataset:\n",
            "Confusion Matrix:\n",
            "[[13868   200]\n",
            " [  345  4661]]\n",
            "Accuracy: 0.9714\n",
            "Macro Precision: 0.9673\n",
            "Macro Recall: 0.9584\n",
            "Macro F1 score: 0.9627\n",
            "MCC: 0.9257\n",
            "Evaluating LinearSVC model for Full Titles Dataset:\n",
            "Confusion Matrix:\n",
            "[[13757   311]\n",
            " [  480  4526]]\n",
            "Accuracy: 0.9585\n",
            "Macro Precision: 0.9510\n",
            "Macro Recall: 0.9410\n",
            "Macro F1 score: 0.9458\n",
            "MCC: 0.8919\n",
            "Evaluating LinearSVC model for Full Abstracts Dataset:\n",
            "Confusion Matrix:\n",
            "[[13888   180]\n",
            " [  237  4769]]\n",
            "Accuracy: 0.9781\n",
            "Macro Precision: 0.9734\n",
            "Macro Recall: 0.9699\n",
            "Macro F1 score: 0.9717\n",
            "MCC: 0.9433\n"
          ]
        }
      ]
    },
    {
      "cell_type": "markdown",
      "source": [
        "#### RNN Models Evaluation"
      ],
      "metadata": {
        "id": "cL2AYJ5_FZu0"
      }
    },
    {
      "cell_type": "code",
      "source": [
        "# Define function to evaluate the RNN models\n",
        "def rnn_model_evaluation(y_predict, y_test):\n",
        "  # Convert predicted and true labels to numpy arrays\n",
        "  y_predict = np.asarray(y_predict)\n",
        "  y_test = np.asarray(y_test)\n",
        "  # Print confusion matrix\n",
        "  print(confusion_matrix(y_test, y_predict))\n",
        "  # Compute evaluation metrics\n",
        "  recall = recall_score(y_test, y_predict,average = 'macro')\n",
        "  precision = precision_score(y_test, y_predict,average = 'macro')\n",
        "  f1score = f1_score(y_test, y_predict, average = 'macro')\n",
        "  accuracy = accuracy_score(y_test, y_predict)\n",
        "  matthews = matthews_corrcoef(y_test, y_predict)\n",
        "  # Print evaluation metrics\n",
        "  print('Accuracy: '+ str(accuracy))\n",
        "  print('Macro Precision: '+ str(precision))\n",
        "  print('Macro Recall: '+ str(recall))\n",
        "  print('Macro F1 score:'+ str(f1score))\n",
        "  print('MCC:'+ str(matthews))"
      ],
      "metadata": {
        "id": "rrlJ8jipLfJN"
      },
      "execution_count": null,
      "outputs": []
    },
    {
      "cell_type": "code",
      "source": [
        "# Dictionary of models\n",
        "models = {\n",
        "    'part_title': part_title_rnn_model,\n",
        "    'part_abstract': part_abstract_rnn_model,\n",
        "    'full_title': full_title_rnn_model,\n",
        "    'full_abstract': full_abstract_rnn_model\n",
        "}\n",
        "\n",
        "# Dictionary of corresponding dataloaders\n",
        "dataloaders = {\n",
        "    'part_title': test_part_title_dataloader,\n",
        "    'part_abstract': test_part_abstract_dataloader,\n",
        "    'full_title': test_full_title_dataloader,\n",
        "    'full_abstract': test_full_abstract_dataloader\n",
        "}\n",
        "\n",
        "# Define function to process and evaluate each RNN model\n",
        "def process_model(model_name, model, dataloader, device):\n",
        "    # Generate predictions and true labels\n",
        "    y_predict, y_test = rnn_model_prediction(model, dataloader, device)\n",
        "    # Evaluate and print the model's performance\n",
        "    print(f\"{model_name.capitalize()} Model Evaluation:\")\n",
        "    rnn_model_evaluation(y_predict, y_test)\n",
        "    print(\"\\n\")\n",
        "    return y_predict, y_test\n",
        "\n",
        "# Define function to convert logits to probabilities for each model\n",
        "def logits_to_probabilities(logits):\n",
        "    return torch.sigmoid(torch.tensor(logits)).numpy()"
      ],
      "metadata": {
        "id": "GI4EqNBnMHuY"
      },
      "execution_count": null,
      "outputs": []
    },
    {
      "cell_type": "code",
      "source": [
        "# Determine the device for computation\n",
        "device = torch.device('cuda' if torch.cuda.is_available() else 'cpu')\n",
        "\n",
        "# Initialize dictionaries to store predictions and true labels for each model\n",
        "predictions = {}\n",
        "true_labels = {}\n",
        "\n",
        "# Loop over each model in the dictionary of models\n",
        "for model_name in models:\n",
        "    # Process each model and store the returned predictions and true labels\n",
        "    y_predict, y_test = process_model(model_name, models[model_name], dataloaders[model_name], device)\n",
        "    predictions[model_name] = y_predict\n",
        "    true_labels[model_name] = y_test"
      ],
      "metadata": {
        "colab": {
          "base_uri": "https://localhost:8080/"
        },
        "id": "sub3qkKdNUGq",
        "outputId": "98fd3cca-5623-4e88-8b9f-a6d6d9727d79"
      },
      "execution_count": null,
      "outputs": [
        {
          "output_type": "stream",
          "name": "stdout",
          "text": [
            "Part_title Model Evaluation:\n",
            "[[13849   175]\n",
            " [ 4962    87]]\n",
            "Accuracy: 0.7306663870392702\n",
            "Macro Precision: 0.5341396194609213\n",
            "Macro Recall: 0.5023762633888972\n",
            "Macro F1 score:0.4381566402274348\n",
            "MCC:0.01801385331747422\n",
            "\n",
            "\n",
            "Part_abstract Model Evaluation:\n",
            "[[13891   133]\n",
            " [ 5024    25]]\n",
            "Accuracy: 0.7296177843024171\n",
            "Macro Precision: 0.44630927165835166\n",
            "Macro Recall: 0.4977338666917037\n",
            "Macro F1 score:0.4265201641157159\n",
            "MCC:-0.022060856542002055\n",
            "\n",
            "\n",
            "Full_title Model Evaluation:\n",
            "[[13995    29]\n",
            " [ 5023    26]]\n",
            "Accuracy: 0.735122948670896\n",
            "Macro Precision: 0.6043045344601765\n",
            "Macro Recall: 0.5015408254666165\n",
            "Macro F1 score:0.428645886995918\n",
            "MCC:0.02535469053093121\n",
            "\n",
            "\n",
            "Full_abstract Model Evaluation:\n",
            "[[14018     6]\n",
            " [ 5048     1]]\n",
            "Accuracy: 0.7350180883972107\n",
            "Macro Precision: 0.4390463203009096\n",
            "Macro Recall: 0.49988511051478735\n",
            "Macro F1 score:0.4238303021869775\n",
            "MCC:-0.005292612542948502\n",
            "\n",
            "\n"
          ]
        }
      ]
    },
    {
      "cell_type": "markdown",
      "metadata": {
        "id": "jmoQeuQVLsRv"
      },
      "source": [
        "### Part 1D: Plots for Methods\n",
        "\n",
        "#### Precision-Recall Curves for Statistical Models\n"
      ]
    },
    {
      "cell_type": "code",
      "execution_count": null,
      "metadata": {
        "id": "9nBbWq42LsRv"
      },
      "outputs": [],
      "source": [
        "import matplotlib.pyplot as plt\n",
        "from sklearn.metrics import precision_recall_curve, average_precision_score, confusion_matrix\n",
        "\n",
        "# Define function to plot the Precision-Recall curve for statiscal models\n",
        "def plot_precision_recall_curve(model, x_test, y_test, description):\n",
        "    # Predict the labels and get the decision scores\n",
        "    y_scores = model.decision_function(x_test)\n",
        "    # Calculate precision-recall and average precision\n",
        "    precision, recall, _ = precision_recall_curve(y_test, y_scores)\n",
        "    average_precision = average_precision_score(y_test, y_scores)\n",
        "    # Plot the Precision-Recall curve\n",
        "    plt.figure()\n",
        "    plt.step(recall, precision, where='post', label=f'AP = {average_precision:.2f}')\n",
        "    plt.xlabel('Recall')\n",
        "    plt.ylabel('Precision')\n",
        "    plt.ylim([0.0, 1.05])\n",
        "    plt.xlim([0.0, 1.0])\n",
        "    plt.title(f'Precision-Recall Curve: {description}')\n",
        "    plt.legend(loc='upper right')\n",
        "    plt.show()"
      ]
    },
    {
      "cell_type": "code",
      "source": [
        "# Display the plots\n",
        "for description in dataset_mappings:\n",
        "    x_test, y_test = dataset_mappings[description][2], dataset_mappings[description][3]\n",
        "    print(f\"Evaluating {description}: \")\n",
        "    plot_precision_recall_curve(trained_models[description], x_test, y_test, description)"
      ],
      "metadata": {
        "colab": {
          "base_uri": "https://localhost:8080/",
          "height": 1000
        },
        "id": "97EREP67bQMu",
        "outputId": "92d5b707-049f-417b-f880-c4a49dddbd60"
      },
      "execution_count": null,
      "outputs": [
        {
          "output_type": "stream",
          "name": "stdout",
          "text": [
            "Evaluating First 1000 Titles Dataset: \n"
          ]
        },
        {
          "output_type": "display_data",
          "data": {
            "text/plain": [
              "<Figure size 640x480 with 1 Axes>"
            ],
            "image/png": "[encoded data removed]"
          },
          "metadata": {}
        },
        {
          "output_type": "stream",
          "name": "stdout",
          "text": [
            "Evaluating First 1000 Abstracts Dataset: \n"
          ]
        },
        {
          "output_type": "display_data",
          "data": {
            "text/plain": [
              "<Figure size 640x480 with 1 Axes>"
            ],
            "image/png": "[encoded data removed]"
          },
          "metadata": {}
        },
        {
          "output_type": "stream",
          "name": "stdout",
          "text": [
            "Evaluating Full Titles Dataset: \n"
          ]
        },
        {
          "output_type": "display_data",
          "data": {
            "text/plain": [
              "<Figure size 640x480 with 1 Axes>"
            ],
            "image/png": "[encoded data removed]"
          },
          "metadata": {}
        },
        {
          "output_type": "stream",
          "name": "stdout",
          "text": [
            "Evaluating Full Abstracts Dataset: \n"
          ]
        },
        {
          "output_type": "display_data",
          "data": {
            "text/plain": [
              "<Figure size 640x480 with 1 Axes>"
            ],
            "image/png": "[encoded data removed]"
          },
          "metadata": {}
        }
      ]
    },
    {
      "cell_type": "markdown",
      "source": [
        "#### Precision-Recall Curves for RNN Models"
      ],
      "metadata": {
        "id": "eq7TlDn8FSwg"
      }
    },
    {
      "cell_type": "code",
      "source": [
        "from sklearn.metrics import auc\n",
        "\n",
        "# Define function to plot the Precision-Recall curve for RNN models\n",
        "def rnn_model_curve(y_test, y_scores, model_name):\n",
        "    # Calculate precision-recall curve\n",
        "    precision, recall, _ = precision_recall_curve(y_test, y_scores)\n",
        "\n",
        "    # Calculate the AUC (Area under the curve)\n",
        "    pr_auc = auc(recall, precision)\n",
        "\n",
        "    # Plot the precision-recall curve\n",
        "    plt.figure(figsize = (8, 6))\n",
        "    plt.plot(recall, precision, marker = '.', label = f'PR curve (area = {pr_auc:.2f})')\n",
        "    plt.title(f'Precision-Recall Curve for {model_name}')\n",
        "    plt.xlabel('Recall')\n",
        "    plt.ylabel('Precision')\n",
        "    plt.legend()\n",
        "    plt.grid(True)\n",
        "    plt.show()"
      ],
      "metadata": {
        "id": "CEDuhdsEOl9z"
      },
      "execution_count": null,
      "outputs": []
    },
    {
      "cell_type": "code",
      "source": [
        "# Display the plots\n",
        "for model_name in predictions:\n",
        "    probabilities = logits_to_probabilities(predictions[model_name])\n",
        "    rnn_model_curve(true_labels[model_name], probabilities, model_name + ' RNN Model')"
      ],
      "metadata": {
        "colab": {
          "base_uri": "https://localhost:8080/",
          "height": 1000
        },
        "id": "Z2cubOa-OmRj",
        "outputId": "99f487d7-3d88-4b33-d6e8-57b5ecb79071"
      },
      "execution_count": null,
      "outputs": [
        {
          "output_type": "display_data",
          "data": {
            "text/plain": [
              "<Figure size 800x600 with 1 Axes>"
            ],
            "image/png": "[encoded data removed]"
          },
          "metadata": {}
        },
        {
          "output_type": "display_data",
          "data": {
            "text/plain": [
              "<Figure size 800x600 with 1 Axes>"
            ],
            "image/png": "[encoded data removed]"
          },
          "metadata": {}
        },
        {
          "output_type": "display_data",
          "data": {
            "text/plain": [
              "<Figure size 800x600 with 1 Axes>"
            ],
            "image/png": "[encoded data removed]"
          },
          "metadata": {}
        },
        {
          "output_type": "display_data",
          "data": {
            "text/plain": [
              "<Figure size 800x600 with 1 Axes>"
            ],
            "image/png": "[encoded data removed]"
          },
          "metadata": {}
        }
      ]
    }
  ],
  "metadata": {
    "kernelspec": {
      "display_name": "Python 3",
      "name": "python3"
    },
    "language_info": {
      "codemirror_mode": {
        "name": "ipython",
        "version": 3
      },
      "file_extension": ".py",
      "mimetype": "text/x-python",
      "name": "python",
      "nbconvert_exporter": "python",
      "pygments_lexer": "ipython3",
      "version": "3.8.6"
    },
    "colab": {
      "provenance": [],
      "gpuType": "V100",
      "machine_shape": "hm"
    },
    "accelerator": "GPU"
  },
  "nbformat": 4,
  "nbformat_minor": 0
}